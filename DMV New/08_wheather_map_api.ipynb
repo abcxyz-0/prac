{
 "cells": [
  {
   "cell_type": "markdown",
   "metadata": {},
   "source": [
    "Analyzing Weather Data from OpenWeatherMap API"
   ]
  },
  {
   "cell_type": "code",
   "execution_count": 1,
   "metadata": {},
   "outputs": [],
   "source": [
    "import requests\n",
    "import pandas as pd\n",
    "import datetime\n",
    "# Set your OpenWeatherMap API key\n",
    "api_key = 'fb365aa6104829b44455572365ff3b4e'"
   ]
  },
  {
   "cell_type": "code",
   "execution_count": 3,
   "metadata": {},
   "outputs": [
    {
     "data": {
      "text/plain": [
       "{'dt': 1690189200,\n",
       " 'main': {'temp': 298.21,\n",
       "  'feels_like': 298.81,\n",
       "  'temp_min': 298.1,\n",
       "  'temp_max': 298.21,\n",
       "  'pressure': 1006,\n",
       "  'sea_level': 1006,\n",
       "  'grnd_level': 942,\n",
       "  'humidity': 78,\n",
       "  'temp_kf': 0.11},\n",
       " 'weather': [{'id': 804,\n",
       "   'main': 'Clouds',\n",
       "   'description': 'overcast clouds',\n",
       "   'icon': '04d'}],\n",
       " 'clouds': {'all': 100},\n",
       " 'wind': {'speed': 6.85, 'deg': 258, 'gust': 12.9},\n",
       " 'visibility': 10000,\n",
       " 'pop': 0.59,\n",
       " 'sys': {'pod': 'd'},\n",
       " 'dt_txt': '2023-04-11 09:00:00'}"
      ]
     },
     "execution_count": 3,
     "metadata": {},
     "output_type": "execute_result"
    }
   ],
   "source": [
    "lat = 18.184135\n",
    "lon = 74.610764\n",
    "#https://openweathermap.org/api/one-call-3#how How to use api call\n",
    "# Construct the API URL\n",
    "api_url = f\"http://api.openweathermap.org/data/2.5/forecast?lat={lat}&lon={lon}&appid={api_key}\"\n",
    "# Send a GET request to the API\n",
    "response = requests.get(api_url)\n",
    "weather_data = response.json() #pass response to weather_data object(dictionary)\n",
    "weather_data.keys()\n",
    "dict_keys=(['cod', 'message', 'cnt', 'list', 'city'])\n",
    "weather_data['list'][0]\n",
    "{'dt': 1690189200,\n",
    " 'main': {'temp': 298.21,\n",
    " 'feels_like': 298.81,\n",
    " 'temp_min': 298.1,\n",
    " 'temp_max': 298.21,\n",
    " 'pressure': 1006,\n",
    " 'sea_level': 1006,\n",
    " 'grnd_level': 942,\n",
    " 'humidity': 78,\n",
    " 'temp_kf': 0.11},\n",
    " 'weather': [{'id': 804,\n",
    " 'main': 'Clouds',\n",
    " 'description': 'overcast clouds',\n",
    " 'icon': '04d'}],\n",
    " 'clouds': {'all': 100},\n",
    " 'wind': {'speed': 6.85, 'deg': 258, 'gust': 12.9},\n",
    " 'visibility': 10000,\n",
    " 'pop': 0.59,\n",
    " 'sys': {'pod': 'd'},\n",
    " 'dt_txt': '2023-04-11 09:00:00'}\n"
   ]
  },
  {
   "cell_type": "code",
   "execution_count": 4,
   "metadata": {},
   "outputs": [
    {
     "data": {
      "text/plain": [
       "40"
      ]
     },
     "execution_count": 4,
     "metadata": {},
     "output_type": "execute_result"
    }
   ],
   "source": [
    "len(weather_data['list'])"
   ]
  },
  {
   "cell_type": "code",
   "execution_count": 5,
   "metadata": {},
   "outputs": [
    {
     "data": {
      "text/plain": [
       "'broken clouds'"
      ]
     },
     "execution_count": 5,
     "metadata": {},
     "output_type": "execute_result"
    }
   ],
   "source": [
    "weather_data['list'][0]['weather'][0]['description']"
   ]
  },
  {
   "cell_type": "code",
   "execution_count": 6,
   "metadata": {},
   "outputs": [
    {
     "data": {
      "text/plain": [
       "304.95"
      ]
     },
     "execution_count": 6,
     "metadata": {},
     "output_type": "execute_result"
    }
   ],
   "source": [
    "temperatures = [item['main']['temp'] for item in weather_data['list']]\n",
    "timestamps = [pd.to_datetime(item['dt'], unit='s') for item in weather_data['list']]\n",
    "temperature = [item['main']['temp'] for item in weather_data['list']]\n",
    "humidity = [item['main']['humidity'] for item in weather_data['list']]\n",
    "wind_speed = [item['wind']['speed'] for item in weather_data['list']]\n",
    "weather_description = [item['weather'][0]['description'] for item in weather_data['list']]\n",
    "# Create a pandas DataFrame with the extracted weather data\n",
    "weather_df = pd.DataFrame({\n",
    "'Timestamp': timestamps,\n",
    "'Temperature': temperatures,\n",
    "'humidity': humidity,\n",
    "'wind_speed': wind_speed,\n",
    "'weather_description': weather_description,\n",
    "})\n",
    "# Set the Timestamp column as the DataFrame's index\n",
    "weather_df.set_index('Timestamp', inplace=True)\n",
    "max_temp = weather_df['Temperature'].max()\n",
    "max_temp"
   ]
  },
  {
   "cell_type": "code",
   "execution_count": 7,
   "metadata": {},
   "outputs": [
    {
     "data": {
      "text/plain": [
       "294.82"
      ]
     },
     "execution_count": 7,
     "metadata": {},
     "output_type": "execute_result"
    }
   ],
   "source": [
    "min_temp = weather_df['Temperature'].min()\n",
    "min_temp"
   ]
  },
  {
   "cell_type": "code",
   "execution_count": 8,
   "metadata": {},
   "outputs": [],
   "source": [
    "# Handling missing values\n",
    "weather_df.fillna(0, inplace=True) # Replace missing values with 0 or appropriate value\n",
    "# Handling inconsistent format (if applicable)\n",
    "weather_df['Temperature'] = weather_df['Temperature'].apply(lambda x: x - 273.15 if isinstance(x, float)else x) "
   ]
  },
  {
   "cell_type": "code",
   "execution_count": 9,
   "metadata": {},
   "outputs": [
    {
     "name": "stdout",
     "output_type": "stream",
     "text": [
      "                     Temperature  humidity  wind_speed weather_description\n",
      "Timestamp                                                                 \n",
      "2023-11-04 09:00:00        30.64        35        1.57       broken clouds\n",
      "2023-11-04 12:00:00        30.55        36        1.63       broken clouds\n",
      "2023-11-04 15:00:00        27.80        35        3.70     overcast clouds\n",
      "2023-11-04 18:00:00        27.03        40        3.88     overcast clouds\n",
      "2023-11-04 21:00:00        24.70        47        2.94     overcast clouds\n",
      "2023-11-05 00:00:00        23.25        53        2.63     overcast clouds\n",
      "2023-11-05 03:00:00        25.58        48        3.76     overcast clouds\n",
      "2023-11-05 06:00:00        29.69        40        3.84     overcast clouds\n",
      "2023-11-05 09:00:00        31.58        35        3.31     overcast clouds\n",
      "2023-11-05 12:00:00        30.16        37        1.65       broken clouds\n",
      "2023-11-05 15:00:00        27.91        40        3.35       broken clouds\n",
      "2023-11-05 18:00:00        26.57        36        3.91     overcast clouds\n",
      "2023-11-05 21:00:00        24.51        41        2.85     overcast clouds\n",
      "2023-11-06 00:00:00        22.46        46        2.49     overcast clouds\n",
      "2023-11-06 03:00:00        25.43        40        3.64       broken clouds\n",
      "2023-11-06 06:00:00        29.27        31        3.95       broken clouds\n",
      "2023-11-06 09:00:00        31.47        27        3.28     overcast clouds\n",
      "2023-11-06 12:00:00        30.06        32        2.55       broken clouds\n",
      "2023-11-06 15:00:00        26.59        39        3.59       broken clouds\n",
      "2023-11-06 18:00:00        24.52        60        3.10       broken clouds\n",
      "2023-11-06 21:00:00        23.80        66        2.84     overcast clouds\n",
      "2023-11-07 00:00:00        22.80        71        2.61     overcast clouds\n",
      "2023-11-07 03:00:00        25.43        65        4.00     overcast clouds\n",
      "2023-11-07 06:00:00        29.99        42        4.74     overcast clouds\n",
      "2023-11-07 09:00:00        31.80        36        3.42     overcast clouds\n",
      "2023-11-07 12:00:00        29.50        44        3.08     overcast clouds\n",
      "2023-11-07 15:00:00        28.28        48        2.71     overcast clouds\n",
      "2023-11-07 18:00:00        25.85        63        2.79          light rain\n",
      "2023-11-07 21:00:00        23.95        72        3.59     overcast clouds\n",
      "2023-11-08 00:00:00        23.47        74        2.47       broken clouds\n",
      "2023-11-08 03:00:00        25.21        67        3.01       broken clouds\n",
      "2023-11-08 06:00:00        29.61        49        4.04     overcast clouds\n",
      "2023-11-08 09:00:00        29.71        46        3.85          light rain\n",
      "2023-11-08 12:00:00        27.61        56        1.84          light rain\n",
      "2023-11-08 15:00:00        23.43        77        0.82          light rain\n",
      "2023-11-08 18:00:00        22.01        88        4.77       moderate rain\n",
      "2023-11-08 21:00:00        21.67        86        1.46          light rain\n",
      "2023-11-09 00:00:00        22.14        84        1.02          light rain\n",
      "2023-11-09 03:00:00        23.44        76        1.61          light rain\n",
      "2023-11-09 06:00:00        23.33        77        1.90       moderate rain\n"
     ]
    }
   ],
   "source": [
    "print(weather_df)"
   ]
  },
  {
   "cell_type": "code",
   "execution_count": null,
   "metadata": {},
   "outputs": [],
   "source": []
  }
 ],
 "metadata": {
  "kernelspec": {
   "display_name": "base",
   "language": "python",
   "name": "python3"
  },
  "language_info": {
   "codemirror_mode": {
    "name": "ipython",
    "version": 3
   },
   "file_extension": ".py",
   "mimetype": "text/x-python",
   "name": "python",
   "nbconvert_exporter": "python",
   "pygments_lexer": "ipython3",
   "version": "3.9.13"
  },
  "orig_nbformat": 4
 },
 "nbformat": 4,
 "nbformat_minor": 2
}
