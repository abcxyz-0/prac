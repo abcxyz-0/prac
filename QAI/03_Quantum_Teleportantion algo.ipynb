{
 "cells": [
  {
   "cell_type": "code",
   "execution_count": 2,
   "metadata": {},
   "outputs": [
    {
     "name": "stdout",
     "output_type": "stream",
     "text": [
      "Requirement already satisfied: qiskit in c:\\users\\asus\\appdata\\local\\packages\\pythonsoftwarefoundation.python.3.9_qbz5n2kfra8p0\\localcache\\local-packages\\python39\\site-packages (0.44.1)\n",
      "Requirement already satisfied: qiskit-terra==0.25.1 in c:\\users\\asus\\appdata\\local\\packages\\pythonsoftwarefoundation.python.3.9_qbz5n2kfra8p0\\localcache\\local-packages\\python39\\site-packages (from qiskit) (0.25.1)\n",
      "Requirement already satisfied: rustworkx>=0.13.0 in c:\\users\\asus\\appdata\\local\\packages\\pythonsoftwarefoundation.python.3.9_qbz5n2kfra8p0\\localcache\\local-packages\\python39\\site-packages (from qiskit-terra==0.25.1->qiskit) (0.13.1)\n",
      "Requirement already satisfied: numpy>=1.17 in c:\\users\\asus\\appdata\\local\\packages\\pythonsoftwarefoundation.python.3.9_qbz5n2kfra8p0\\localcache\\local-packages\\python39\\site-packages (from qiskit-terra==0.25.1->qiskit) (1.23.5)\n",
      "Requirement already satisfied: ply>=3.10 in c:\\users\\asus\\appdata\\local\\packages\\pythonsoftwarefoundation.python.3.9_qbz5n2kfra8p0\\localcache\\local-packages\\python39\\site-packages (from qiskit-terra==0.25.1->qiskit) (3.11)\n",
      "Requirement already satisfied: psutil>=5 in c:\\users\\asus\\appdata\\local\\packages\\pythonsoftwarefoundation.python.3.9_qbz5n2kfra8p0\\localcache\\local-packages\\python39\\site-packages (from qiskit-terra==0.25.1->qiskit) (5.9.5)\n",
      "Requirement already satisfied: scipy>=1.5 in c:\\users\\asus\\appdata\\local\\packages\\pythonsoftwarefoundation.python.3.9_qbz5n2kfra8p0\\localcache\\local-packages\\python39\\site-packages (from qiskit-terra==0.25.1->qiskit) (1.10.1)\n",
      "Requirement already satisfied: sympy>=1.3 in c:\\users\\asus\\appdata\\local\\packages\\pythonsoftwarefoundation.python.3.9_qbz5n2kfra8p0\\localcache\\local-packages\\python39\\site-packages (from qiskit-terra==0.25.1->qiskit) (1.12)\n",
      "Requirement already satisfied: dill>=0.3 in c:\\users\\asus\\appdata\\local\\packages\\pythonsoftwarefoundation.python.3.9_qbz5n2kfra8p0\\localcache\\local-packages\\python39\\site-packages (from qiskit-terra==0.25.1->qiskit) (0.3.7)\n",
      "Requirement already satisfied: python-dateutil>=2.8.0 in c:\\users\\asus\\appdata\\local\\packages\\pythonsoftwarefoundation.python.3.9_qbz5n2kfra8p0\\localcache\\local-packages\\python39\\site-packages (from qiskit-terra==0.25.1->qiskit) (2.8.2)\n",
      "Requirement already satisfied: stevedore>=3.0.0 in c:\\users\\asus\\appdata\\local\\packages\\pythonsoftwarefoundation.python.3.9_qbz5n2kfra8p0\\localcache\\local-packages\\python39\\site-packages (from qiskit-terra==0.25.1->qiskit) (5.1.0)\n",
      "Requirement already satisfied: typing-extensions in c:\\users\\asus\\appdata\\local\\packages\\pythonsoftwarefoundation.python.3.9_qbz5n2kfra8p0\\localcache\\local-packages\\python39\\site-packages (from qiskit-terra==0.25.1->qiskit) (4.6.3)\n",
      "Requirement already satisfied: six>=1.5 in c:\\users\\asus\\appdata\\local\\packages\\pythonsoftwarefoundation.python.3.9_qbz5n2kfra8p0\\localcache\\local-packages\\python39\\site-packages (from python-dateutil>=2.8.0->qiskit-terra==0.25.1->qiskit) (1.16.0)\n",
      "Requirement already satisfied: pbr!=2.1.0,>=2.0.0 in c:\\users\\asus\\appdata\\local\\packages\\pythonsoftwarefoundation.python.3.9_qbz5n2kfra8p0\\localcache\\local-packages\\python39\\site-packages (from stevedore>=3.0.0->qiskit-terra==0.25.1->qiskit) (5.11.1)\n",
      "Requirement already satisfied: mpmath>=0.19 in c:\\users\\asus\\appdata\\local\\packages\\pythonsoftwarefoundation.python.3.9_qbz5n2kfra8p0\\localcache\\local-packages\\python39\\site-packages (from sympy>=1.3->qiskit-terra==0.25.1->qiskit) (1.3.0)\n",
      "Note: you may need to restart the kernel to use updated packages.\n"
     ]
    }
   ],
   "source": [
    "pip install qiskit"
   ]
  },
  {
   "cell_type": "code",
   "execution_count": 2,
   "id": "c7b3fdd8-75a3-44ea-ad9e-c10f6128531d",
   "metadata": {
    "tags": []
   },
   "outputs": [
    {
     "name": "stdout",
     "output_type": "stream",
     "text": [
      "      ┌─────────────────┐ ░            ░      ┌───┐ ░ ┌─┐                    \n",
      " q_0: ┤ Initialize(0,1) ├─░────────────░───■──┤ H ├─░─┤M├────────────────────\n",
      "      └─────────────────┘ ░ ┌───┐      ░ ┌─┴─┐└───┘ ░ └╥┘┌─┐                 \n",
      " q_1: ────────────────────░─┤ H ├──■───░─┤ X ├──────░──╫─┤M├─────────────────\n",
      "                          ░ └───┘┌─┴─┐ ░ └───┘      ░  ║ └╥┘ ┌───┐  ┌───┐ ┌─┐\n",
      " q_2: ────────────────────░──────┤ X ├─░────────────░──╫──╫──┤ X ├──┤ Z ├─┤M├\n",
      "                          ░      └───┘ ░            ░  ║  ║  └─╥─┘  └─╥─┘ └╥┘\n",
      "                                                       ║  ║    ║   ┌──╨──┐ ║ \n",
      "c0: 1/═════════════════════════════════════════════════╩══╬════╬═══╡ 0x1 ╞═╬═\n",
      "                                                       0  ║ ┌──╨──┐└─────┘ ║ \n",
      "c1: 1/════════════════════════════════════════════════════╩═╡ 0x1 ╞════════╬═\n",
      "                                                          0 └─────┘        ║ \n",
      "c2: 1/═════════════════════════════════════════════════════════════════════╩═\n",
      "                                                                           0 \n",
      "Teleported state: {'1 1 0': 1}\n"
     ]
    },
    {
     "data": {
      "image/png": "[encoded data removed]",
      "text/plain": [
       "<Figure size 504x360 with 1 Axes>"
      ]
     },
     "execution_count": 2,
     "metadata": {},
     "output_type": "execute_result"
    }
   ],
   "source": [
    "from qiskit import QuantumCircuit, QuantumRegister, ClassicalRegister, execute, Aer\n",
    "from qiskit.visualization import circuit_drawer, plot_histogram\n",
    "\n",
    "# Create the quantum circuit with 3 qubits and 3 classical bits\n",
    "q = QuantumRegister(3, 'q')  # Quantum register\n",
    "c0 = ClassicalRegister(1, 'c0')  # Classical register for Alice's qubit\n",
    "c1 = ClassicalRegister(1, 'c1')  # Classical register for Bob's qubit\n",
    "c2 = ClassicalRegister(1, 'c2')  # Classical register for the result\n",
    "circuit = QuantumCircuit(q, c0, c1, c2)\n",
    "\n",
    "# Prepare the initial state to be teleported\n",
    "circuit.initialize([0, 1], q[0])  # Apply X gate to put in state |1>\n",
    "circuit.barrier()\n",
    "\n",
    "# Create an entanglement between Alice's and Bob's qubits\n",
    "circuit.h(q[1])\n",
    "circuit.cx(q[1], q[2])\n",
    "circuit.barrier()\n",
    "\n",
    "# Teleportation process\n",
    "circuit.cx(q[0], q[1])\n",
    "circuit.h(q[0])\n",
    "circuit.barrier()\n",
    "\n",
    "# Measure Alice's qubits and send the measurement results to Bob\n",
    "circuit.measure(q[0], c0[0])\n",
    "circuit.measure(q[1], c1[0])\n",
    "\n",
    "# Apply corrective operations on Bob's qubit based on the measurement results\n",
    "circuit.x(q[2]).c_if(c1, 1)\n",
    "circuit.z(q[2]).c_if(c0, 1)\n",
    "\n",
    "# Measure the teleported qubit\n",
    "circuit.measure(q[2], c2[0])\n",
    "\n",
    "# Visualize the circuit\n",
    "print(circuit)\n",
    "circuit_drawer(circuit, output='mpl')\n",
    "\n",
    "# Simulate the circuit using the QASM simulator\n",
    "simulator = Aer.get_backend('qasm_simulator')\n",
    "job = execute(circuit, simulator, shots=1)\n",
    "result = job.result()\n",
    "teleported_state = result.get_counts(circuit)\n",
    "\n",
    "# Print the teleported state\n",
    "print(\"Teleported state:\", teleported_state)\n",
    "\n",
    "\n",
    "#-----------------------------------\n",
    "plot_histogram(teleported_state)"
   ]
  },
  {
   "cell_type": "code",
   "execution_count": null,
   "metadata": {},
   "outputs": [],
   "source": []
  },
  {
   "cell_type": "code",
   "execution_count": null,
   "metadata": {},
   "outputs": [],
   "source": []
  }
 ],
 "metadata": {
  "kernelspec": {
   "display_name": "Python 3 (ipykernel)",
   "language": "python",
   "name": "python3"
  },
  "language_info": {
   "codemirror_mode": {
    "name": "ipython",
    "version": 3
   },
   "file_extension": ".py",
   "mimetype": "text/x-python",
   "name": "python",
   "nbconvert_exporter": "python",
   "pygments_lexer": "ipython3",
   "version": "3.9.18"
  },
  "widgets": {
   "application/vnd.jupyter.widget-state+json": {
    "state": {
     "00c9748a0de84ae2b533e82ddfe7a03d": {
      "model_module": "@jupyter-widgets/base",
      "model_module_version": "2.0.0",
      "model_name": "LayoutModel",
      "state": {
       "width": "95px"
      }
     },
     "010c41aebae84c2c989752c3a2e30897": {
      "model_module": "@jupyter-widgets/base",
      "model_module_version": "2.0.0",
      "model_name": "LayoutModel",
      "state": {
       "max_width": "700px",
       "min_width": "700px"
      }
     },
     "02afcc6161854c199c5db4d90c4db23b": {
      "model_module": "@jupyter-widgets/base",
      "model_module_version": "2.0.0",
      "model_name": "LayoutModel",
      "state": {}
     },
     "05bf4c7b73cb4c5d9b1107dda0f8f088": {
      "model_module": "@jupyter-widgets/controls",
      "model_module_version": "2.0.0",
      "model_name": "HTMLModel",
      "state": {
       "layout": "IPY_MODEL_3414923149b9496a93931050bdd0d752",
       "style": "IPY_MODEL_d5ceb271cf614182bbb7f1c9565568d1",
       "value": "<h5>Queue</h5>"
      }
     },
     "06be15ecd8f241469fecb65f9ebed656": {
      "model_module": "@jupyter-widgets/base",
      "model_module_version": "2.0.0",
      "model_name": "LayoutModel",
      "state": {
       "width": "145px"
      }
     },
     "073aec67cff54b35804bd09cf91b7071": {
      "model_module": "@jupyter-widgets/base",
      "model_module_version": "2.0.0",
      "model_name": "LayoutModel",
      "state": {}
     },
     "08a1a3af133d4e72a1bf7c996e4589a9": {
      "model_module": "@jupyter-widgets/controls",
      "model_module_version": "2.0.0",
      "model_name": "HTMLStyleModel",
      "state": {
       "description_width": "",
       "font_size": null,
       "text_color": null
      }
     },
     "0a7ee1b808f64813bf3f5aa3cf707c0e": {
      "model_module": "@jupyter-widgets/controls",
      "model_module_version": "2.0.0",
      "model_name": "HBoxModel",
      "state": {
       "children": [
        "IPY_MODEL_dc2f61a3faad43dda89d5b40f36e8cdb",
        "IPY_MODEL_b9859ec015d04fea92bb1aeddd693bd9",
        "IPY_MODEL_64d7f468908c4634886657107cf2abeb",
        "IPY_MODEL_3d2c4a00e25c49fd86efec5677872c02",
        "IPY_MODEL_52487f61b9294ccfb4d592071bc6fca3",
        "IPY_MODEL_788c5e3d2119417389c193a46ed18e21"
       ],
       "layout": "IPY_MODEL_010c41aebae84c2c989752c3a2e30897"
      }
     },
     "0cc108e2af1e47a89f48b78c1306eab1": {
      "model_module": "@jupyter-widgets/base",
      "model_module_version": "2.0.0",
      "model_name": "LayoutModel",
      "state": {
       "width": "95px"
      }
     },
     "0dc59fe2531f4d38833c18b719b00e1a": {
      "model_module": "@jupyter-widgets/controls",
      "model_module_version": "2.0.0",
      "model_name": "HTMLStyleModel",
      "state": {
       "description_width": "",
       "font_size": null,
       "text_color": null
      }
     },
     "120dab1da9b04648aaf29e9adc1e0f3d": {
      "model_module": "@jupyter-widgets/controls",
      "model_module_version": "2.0.0",
      "model_name": "HTMLModel",
      "state": {
       "layout": "IPY_MODEL_00c9748a0de84ae2b533e82ddfe7a03d",
       "style": "IPY_MODEL_6567e728bf9640b58739bfc7324bae85",
       "value": "<font style='color:#34BC6E'>DONE</font>"
      }
     },
     "14a6e4eef171421282136a4c2a81fa60": {
      "model_module": "@jupyter-widgets/controls",
      "model_module_version": "2.0.0",
      "model_name": "HTMLStyleModel",
      "state": {
       "description_width": "",
       "font_size": null,
       "text_color": null
      }
     },
     "18adc9a4f4894455b94c670061660ae0": {
      "model_module": "@jupyter-widgets/base",
      "model_module_version": "2.0.0",
      "model_name": "LayoutModel",
      "state": {
       "max_width": "700px",
       "min_width": "700px"
      }
     },
     "195b0ffa8c3e4084be3a96dbe1854026": {
      "model_module": "@jupyter-widgets/base",
      "model_module_version": "2.0.0",
      "model_name": "LayoutModel",
      "state": {
       "margin": "0px 5px 0px 0px",
       "width": "32px"
      }
     },
     "19cab4bf88d247768db4947c4bd5cc8a": {
      "model_module": "@jupyter-widgets/base",
      "model_module_version": "2.0.0",
      "model_name": "LayoutModel",
      "state": {
       "width": "70px"
      }
     },
     "19e109781ebc4d6ba8bd4bcad7ca8a12": {
      "model_module": "@jupyter-widgets/controls",
      "model_module_version": "2.0.0",
      "model_name": "HTMLStyleModel",
      "state": {
       "description_width": "",
       "font_size": null,
       "text_color": null
      }
     },
     "1a8f55e9b64b49a0b197a112fe4e95b1": {
      "model_module": "@jupyter-widgets/controls",
      "model_module_version": "2.0.0",
      "model_name": "ButtonStyleModel",
      "state": {
       "button_color": "white",
       "font_family": null,
       "font_size": null,
       "font_style": null,
       "font_variant": null,
       "font_weight": null,
       "text_color": null,
       "text_decoration": null
      }
     },
     "1a98876c5d0f416ca7bb2409f7a01be6": {
      "model_module": "@jupyter-widgets/base",
      "model_module_version": "2.0.0",
      "model_name": "LayoutModel",
      "state": {
       "width": "70px"
      }
     },
     "1b04dac1eac947f8ba9bbfa657a13c58": {
      "model_module": "@jupyter-widgets/controls",
      "model_module_version": "2.0.0",
      "model_name": "HTMLStyleModel",
      "state": {
       "description_width": "",
       "font_size": null,
       "text_color": null
      }
     },
     "1ba9c6b5543c453b89214d9ca9eb5923": {
      "model_module": "@jupyter-widgets/base",
      "model_module_version": "2.0.0",
      "model_name": "LayoutModel",
      "state": {
       "width": "95px"
      }
     },
     "26772b56aee24460834d9c9e54e47aa2": {
      "model_module": "@jupyter-widgets/controls",
      "model_module_version": "2.0.0",
      "model_name": "HBoxModel",
      "state": {
       "children": [
        "IPY_MODEL_938a2e826a9547bd9e6c3f7e208a1270",
        "IPY_MODEL_3b4ed0b9b73e42d989911e1ef05815e5",
        "IPY_MODEL_eca0abd7309d4386bd11ea9d9e7afbb2",
        "IPY_MODEL_05bf4c7b73cb4c5d9b1107dda0f8f088",
        "IPY_MODEL_8c3c601802dd4bf2b64d21600410144f"
       ],
       "layout": "IPY_MODEL_3f7f32da01c4438f95a513d89db18b8e"
      }
     },
     "27b6381280744947a467452f64f2ebe6": {
      "model_module": "@jupyter-widgets/base",
      "model_module_version": "2.0.0",
      "model_name": "LayoutModel",
      "state": {
       "max_width": "700px",
       "min_width": "700px"
      }
     },
     "2886e6054e664e4ca54bfacbb13afd3f": {
      "model_module": "@jupyter-widgets/controls",
      "model_module_version": "2.0.0",
      "model_name": "HTMLStyleModel",
      "state": {
       "description_width": "",
       "font_size": null,
       "text_color": null
      }
     },
     "2b8f957e394742d8b86f51c3ef109b45": {
      "model_module": "@jupyter-widgets/controls",
      "model_module_version": "2.0.0",
      "model_name": "HBoxModel",
      "state": {
       "children": [
        "IPY_MODEL_a790c8bc0f504b348a646ea540c70cd8",
        "IPY_MODEL_44505b0843f344adbc390db860ff79ec",
        "IPY_MODEL_e63315a6f6d346bd8284f572b4d97a83",
        "IPY_MODEL_c3e3163226e7456d9b11860ac1eead2c",
        "IPY_MODEL_d055fa548b7449c1a07de8b49b94bd13",
        "IPY_MODEL_a5bb24dced4f49bbb7c1695e7bb46980"
       ],
       "layout": "IPY_MODEL_27b6381280744947a467452f64f2ebe6"
      }
     },
     "2c47153cb99640249b2aa260dc6fc348": {
      "model_module": "@jupyter-widgets/controls",
      "model_module_version": "2.0.0",
      "model_name": "HTMLStyleModel",
      "state": {
       "description_width": "",
       "font_size": null,
       "text_color": null
      }
     },
     "3414923149b9496a93931050bdd0d752": {
      "model_module": "@jupyter-widgets/base",
      "model_module_version": "2.0.0",
      "model_name": "LayoutModel",
      "state": {
       "width": "70px"
      }
     },
     "3607830e88fe4214b8ef79620c65004f": {
      "model_module": "@jupyter-widgets/base",
      "model_module_version": "2.0.0",
      "model_name": "LayoutModel",
      "state": {
       "width": "70px"
      }
     },
     "37bb87ba133f4978be86a77e2e07d75f": {
      "model_module": "@jupyter-widgets/controls",
      "model_module_version": "2.0.0",
      "model_name": "HTMLModel",
      "state": {
       "layout": "IPY_MODEL_8c5be9586af5455e9eaec105fa522319",
       "style": "IPY_MODEL_3ebc5b2642574920a454c0349cf7c9a9",
       "value": "-"
      }
     },
     "37d68a8da60745d78fd84f0734777c15": {
      "model_module": "@jupyter-widgets/controls",
      "model_module_version": "2.0.0",
      "model_name": "HTMLModel",
      "state": {
       "layout": "IPY_MODEL_a637db49dc084f4c9f467af3eb0f704a",
       "style": "IPY_MODEL_c26a7382e8df4330b15927b2639917e5",
       "value": "job has successfully run"
      }
     },
     "3a9320dbf28b4712b6c80c219790910c": {
      "model_module": "@jupyter-widgets/base",
      "model_module_version": "2.0.0",
      "model_name": "LayoutModel",
      "state": {
       "width": "190px"
      }
     },
     "3b4ed0b9b73e42d989911e1ef05815e5": {
      "model_module": "@jupyter-widgets/controls",
      "model_module_version": "2.0.0",
      "model_name": "HTMLModel",
      "state": {
       "layout": "IPY_MODEL_7aabdce9dd2648e6a71a92f5f5f45909",
       "style": "IPY_MODEL_a982bd70adc94974b7e57dbed021ef85",
       "value": "<h5>Backend</h5>"
      }
     },
     "3c7b00ae15244529ab69637e2386131e": {
      "model_module": "@jupyter-widgets/base",
      "model_module_version": "2.0.0",
      "model_name": "LayoutModel",
      "state": {}
     },
     "3c90f2c1a97d4221beffc26a50ae6d89": {
      "model_module": "@jupyter-widgets/controls",
      "model_module_version": "2.0.0",
      "model_name": "ButtonModel",
      "state": {
       "icon": "close",
       "layout": "IPY_MODEL_85bcd953d71143debb954845914b4053",
       "style": "IPY_MODEL_728a18880ff845078480fd282bff1b46",
       "tooltip": null
      }
     },
     "3d2c4a00e25c49fd86efec5677872c02": {
      "model_module": "@jupyter-widgets/controls",
      "model_module_version": "2.0.0",
      "model_name": "HTMLModel",
      "state": {
       "layout": "IPY_MODEL_43422a7a0d674325a68095772e9b03f9",
       "style": "IPY_MODEL_a73fc57115824a8c970bea1e096ba77a",
       "value": "<font style='color:#34BC6E'>DONE</font>"
      }
     },
     "3ebc5b2642574920a454c0349cf7c9a9": {
      "model_module": "@jupyter-widgets/controls",
      "model_module_version": "2.0.0",
      "model_name": "HTMLStyleModel",
      "state": {
       "description_width": "",
       "font_size": null,
       "text_color": null
      }
     },
     "3ed3be9e70104997b82b3e413207422d": {
      "model_module": "@jupyter-widgets/controls",
      "model_module_version": "2.0.0",
      "model_name": "HTMLStyleModel",
      "state": {
       "description_width": "",
       "font_size": null,
       "text_color": null
      }
     },
     "3f7f32da01c4438f95a513d89db18b8e": {
      "model_module": "@jupyter-widgets/base",
      "model_module_version": "2.0.0",
      "model_name": "LayoutModel",
      "state": {
       "margin": "0px 0px 0px 37px",
       "width": "600px"
      }
     },
     "428c052038fb48b7800567c0a5184d1b": {
      "model_module": "@jupyter-widgets/controls",
      "model_module_version": "2.0.0",
      "model_name": "HTMLModel",
      "state": {
       "layout": "IPY_MODEL_f80191543764452f9f5b92b76c3b1ab4",
       "style": "IPY_MODEL_1b04dac1eac947f8ba9bbfa657a13c58",
       "value": "ibmq_qasm_simulator"
      }
     },
     "43422a7a0d674325a68095772e9b03f9": {
      "model_module": "@jupyter-widgets/base",
      "model_module_version": "2.0.0",
      "model_name": "LayoutModel",
      "state": {
       "width": "95px"
      }
     },
     "43fa05d72612447bbad3a4151552d452": {
      "model_module": "@jupyter-widgets/controls",
      "model_module_version": "2.0.0",
      "model_name": "HTMLStyleModel",
      "state": {
       "description_width": "",
       "font_size": null,
       "text_color": null
      }
     },
     "44505b0843f344adbc390db860ff79ec": {
      "model_module": "@jupyter-widgets/controls",
      "model_module_version": "2.0.0",
      "model_name": "HTMLModel",
      "state": {
       "layout": "IPY_MODEL_b09edcf90ea24c5fb9aabcc1f26243ae",
       "style": "IPY_MODEL_5bd281aa4e254155a7c7bd2fc83d8379",
       "value": "cio2lm55earflfq1fts0"
      }
     },
     "4a12b9d290de48bab0c4fde8d6866ea3": {
      "model_module": "@jupyter-widgets/controls",
      "model_module_version": "2.0.0",
      "model_name": "ButtonModel",
      "state": {
       "icon": "close",
       "layout": "IPY_MODEL_b8c4a83c229a485b8e56ed29424de258",
       "style": "IPY_MODEL_1a8f55e9b64b49a0b197a112fe4e95b1",
       "tooltip": null
      }
     },
     "4e44929bce824cd68f27a3a28b58d9da": {
      "model_module": "@jupyter-widgets/controls",
      "model_module_version": "2.0.0",
      "model_name": "HTMLStyleModel",
      "state": {
       "description_width": "",
       "font_size": null,
       "text_color": null
      }
     },
     "52487f61b9294ccfb4d592071bc6fca3": {
      "model_module": "@jupyter-widgets/controls",
      "model_module_version": "2.0.0",
      "model_name": "HTMLModel",
      "state": {
       "layout": "IPY_MODEL_1a98876c5d0f416ca7bb2409f7a01be6",
       "style": "IPY_MODEL_d84af8438e8d49329251ef411a299d1c",
       "value": "-"
      }
     },
     "54369c4bda654e31a6b44e1708b6791c": {
      "model_module": "@jupyter-widgets/controls",
      "model_module_version": "2.0.0",
      "model_name": "HTMLModel",
      "state": {
       "layout": "IPY_MODEL_f965feff4de6433593c01dda30fc48f1",
       "style": "IPY_MODEL_2c47153cb99640249b2aa260dc6fc348",
       "value": "-"
      }
     },
     "552b551c351f4dbbbe27979c3926ecbf": {
      "model_module": "@jupyter-widgets/base",
      "model_module_version": "2.0.0",
      "model_name": "LayoutModel",
      "state": {
       "width": "190px"
      }
     },
     "592cfe8d21214355b06a4fcb2990d9c8": {
      "model_module": "@jupyter-widgets/controls",
      "model_module_version": "2.0.0",
      "model_name": "HTMLModel",
      "state": {
       "layout": "IPY_MODEL_d36f86b8ea0348548e87f8a796f5064e",
       "style": "IPY_MODEL_4e44929bce824cd68f27a3a28b58d9da",
       "value": "<p style='font-family: IBM Plex Sans, Arial, Helvetica, sans-serif; font-size: 20px; font-weight: medium;'>Circuit Properties</p>"
      }
     },
     "5bd281aa4e254155a7c7bd2fc83d8379": {
      "model_module": "@jupyter-widgets/controls",
      "model_module_version": "2.0.0",
      "model_name": "HTMLStyleModel",
      "state": {
       "description_width": "",
       "font_size": null,
       "text_color": null
      }
     },
     "5e31efd15db04b188258e9a1d392c136": {
      "model_module": "@jupyter-widgets/controls",
      "model_module_version": "2.0.0",
      "model_name": "ButtonModel",
      "state": {
       "icon": "close",
       "layout": "IPY_MODEL_195b0ffa8c3e4084be3a96dbe1854026",
       "style": "IPY_MODEL_cb97c7ec57d04cac810e3bd1d58d8fac",
       "tooltip": null
      }
     },
     "5ec5d081367241e0a0b7ac36a4a4698c": {
      "model_module": "@jupyter-widgets/base",
      "model_module_version": "2.0.0",
      "model_name": "LayoutModel",
      "state": {
       "grid_area": "right",
       "padding": "0px 0px 0px 0px",
       "width": "70px"
      }
     },
     "609db2db51c043bb9750404616f1c30f": {
      "model_module": "@jupyter-widgets/base",
      "model_module_version": "2.0.0",
      "model_name": "LayoutModel",
      "state": {
       "margin": "0px 5px 0px 0px",
       "width": "32px"
      }
     },
     "6156e512c383446e818a4bda8afe87a0": {
      "model_module": "@jupyter-widgets/controls",
      "model_module_version": "2.0.0",
      "model_name": "HTMLStyleModel",
      "state": {
       "description_width": "",
       "font_size": null,
       "text_color": null
      }
     },
     "624cba9e34674ed38b03ce385bde606c": {
      "model_module": "@jupyter-widgets/controls",
      "model_module_version": "2.0.0",
      "model_name": "HTMLModel",
      "state": {
       "layout": "IPY_MODEL_d9fab3fcd835486b82e04e11dc0477fb",
       "style": "IPY_MODEL_14a6e4eef171421282136a4c2a81fa60",
       "value": "cio2njt5earflfq1h3r0"
      }
     },
     "64d7f468908c4634886657107cf2abeb": {
      "model_module": "@jupyter-widgets/controls",
      "model_module_version": "2.0.0",
      "model_name": "HTMLModel",
      "state": {
       "layout": "IPY_MODEL_906c7511c8cb4493b748cbed67443808",
       "style": "IPY_MODEL_dc66d14183484b629db49b30c1c7137c",
       "value": "ibmq_qasm_simulator"
      }
     },
     "6567e728bf9640b58739bfc7324bae85": {
      "model_module": "@jupyter-widgets/controls",
      "model_module_version": "2.0.0",
      "model_name": "HTMLStyleModel",
      "state": {
       "description_width": "",
       "font_size": null,
       "text_color": null
      }
     },
     "6e068f519038413db14166293fe07bc4": {
      "model_module": "@jupyter-widgets/base",
      "model_module_version": "2.0.0",
      "model_name": "LayoutModel",
      "state": {
       "width": "145px"
      }
     },
     "70e4585ed9404c2c83c74c2ea3a4e233": {
      "model_module": "@jupyter-widgets/controls",
      "model_module_version": "2.0.0",
      "model_name": "HTMLStyleModel",
      "state": {
       "description_width": "",
       "font_size": null,
       "text_color": null
      }
     },
     "728a18880ff845078480fd282bff1b46": {
      "model_module": "@jupyter-widgets/controls",
      "model_module_version": "2.0.0",
      "model_name": "ButtonStyleModel",
      "state": {
       "button_color": "white",
       "font_family": null,
       "font_size": null,
       "font_style": null,
       "font_variant": null,
       "font_weight": null,
       "text_color": null,
       "text_decoration": null
      }
     },
     "7402f683fdb64f399b2a5c1e5fcb633d": {
      "model_module": "@jupyter-widgets/controls",
      "model_module_version": "2.0.0",
      "model_name": "HTMLStyleModel",
      "state": {
       "description_width": "",
       "font_size": null,
       "text_color": null
      }
     },
     "76d58e57dd0249119f4b754d900d253f": {
      "model_module": "@jupyter-widgets/controls",
      "model_module_version": "2.0.0",
      "model_name": "HTMLStyleModel",
      "state": {
       "description_width": "",
       "font_size": null,
       "text_color": null
      }
     },
     "788c5e3d2119417389c193a46ed18e21": {
      "model_module": "@jupyter-widgets/controls",
      "model_module_version": "2.0.0",
      "model_name": "HTMLModel",
      "state": {
       "layout": "IPY_MODEL_3c7b00ae15244529ab69637e2386131e",
       "style": "IPY_MODEL_43fa05d72612447bbad3a4151552d452",
       "value": "job has successfully run"
      }
     },
     "79baaaad2c4e47308f6dfa0c56e4409a": {
      "model_module": "@jupyter-widgets/controls",
      "model_module_version": "2.0.0",
      "model_name": "HTMLStyleModel",
      "state": {
       "description_width": "",
       "font_size": null,
       "text_color": null
      }
     },
     "7aabdce9dd2648e6a71a92f5f5f45909": {
      "model_module": "@jupyter-widgets/base",
      "model_module_version": "2.0.0",
      "model_name": "LayoutModel",
      "state": {
       "width": "145px"
      }
     },
     "81c9919982ef4705b7bdfaabff77cfa9": {
      "model_module": "@jupyter-widgets/controls",
      "model_module_version": "2.0.0",
      "model_name": "ButtonStyleModel",
      "state": {
       "font_family": null,
       "font_size": null,
       "font_style": null,
       "font_variant": null,
       "font_weight": null,
       "text_color": null,
       "text_decoration": null
      }
     },
     "85bcd953d71143debb954845914b4053": {
      "model_module": "@jupyter-widgets/base",
      "model_module_version": "2.0.0",
      "model_name": "LayoutModel",
      "state": {
       "margin": "0px 5px 0px 0px",
       "width": "32px"
      }
     },
     "8ae1afae66e042dd8a7daa3cca86106c": {
      "model_module": "@jupyter-widgets/controls",
      "model_module_version": "2.0.0",
      "model_name": "ButtonModel",
      "state": {
       "button_style": "primary",
       "description": "Clear",
       "layout": "IPY_MODEL_5ec5d081367241e0a0b7ac36a4a4698c",
       "style": "IPY_MODEL_81c9919982ef4705b7bdfaabff77cfa9",
       "tooltip": null
      }
     },
     "8ae52aa298aa48e399ba894c42f3c3f3": {
      "model_module": "@jupyter-widgets/base",
      "model_module_version": "2.0.0",
      "model_name": "LayoutModel",
      "state": {
       "width": "95px"
      }
     },
     "8b36c08b1619403cb03589ff18e2226a": {
      "model_module": "@jupyter-widgets/controls",
      "model_module_version": "2.0.0",
      "model_name": "ButtonStyleModel",
      "state": {
       "button_color": "white",
       "font_family": null,
       "font_size": null,
       "font_style": null,
       "font_variant": null,
       "font_weight": null,
       "text_color": null,
       "text_decoration": null
      }
     },
     "8c3c601802dd4bf2b64d21600410144f": {
      "model_module": "@jupyter-widgets/controls",
      "model_module_version": "2.0.0",
      "model_name": "HTMLModel",
      "state": {
       "layout": "IPY_MODEL_073aec67cff54b35804bd09cf91b7071",
       "style": "IPY_MODEL_9c02c4bc498f4d51b72aa59b2265fac8",
       "value": "<h5>Message</h5>"
      }
     },
     "8c5be9586af5455e9eaec105fa522319": {
      "model_module": "@jupyter-widgets/base",
      "model_module_version": "2.0.0",
      "model_name": "LayoutModel",
      "state": {
       "width": "70px"
      }
     },
     "8c79760b795e46f1996017eb05406b27": {
      "model_module": "@jupyter-widgets/base",
      "model_module_version": "2.0.0",
      "model_name": "LayoutModel",
      "state": {
       "width": "145px"
      }
     },
     "8ce029e0bc5a448ab2a84118376f3ace": {
      "model_module": "@jupyter-widgets/base",
      "model_module_version": "2.0.0",
      "model_name": "LayoutModel",
      "state": {
       "width": "95px"
      }
     },
     "8d4cbad7591e419284e06cd4cc5def9b": {
      "model_module": "@jupyter-widgets/controls",
      "model_module_version": "2.0.0",
      "model_name": "HTMLStyleModel",
      "state": {
       "description_width": "",
       "font_size": null,
       "text_color": null
      }
     },
     "906c7511c8cb4493b748cbed67443808": {
      "model_module": "@jupyter-widgets/base",
      "model_module_version": "2.0.0",
      "model_name": "LayoutModel",
      "state": {
       "width": "145px"
      }
     },
     "922d9dc8f36a4294b5224ed3fe1e67bb": {
      "model_module": "@jupyter-widgets/controls",
      "model_module_version": "2.0.0",
      "model_name": "HTMLModel",
      "state": {
       "layout": "IPY_MODEL_06be15ecd8f241469fecb65f9ebed656",
       "style": "IPY_MODEL_0dc59fe2531f4d38833c18b719b00e1a",
       "value": "ibmq_qasm_simulator"
      }
     },
     "938a2e826a9547bd9e6c3f7e208a1270": {
      "model_module": "@jupyter-widgets/controls",
      "model_module_version": "2.0.0",
      "model_name": "HTMLModel",
      "state": {
       "layout": "IPY_MODEL_ff4cbbea1c464a069f3ff7b8e09aaa8f",
       "style": "IPY_MODEL_e3b8a60e315c40138aa77b6e58c43398",
       "value": "<h5>Job ID</h5>"
      }
     },
     "94ac5fc758a34d488892083c42c7eec0": {
      "model_module": "@jupyter-widgets/base",
      "model_module_version": "2.0.0",
      "model_name": "LayoutModel",
      "state": {}
     },
     "94d1be4cdaa847b98ff6e54460870d79": {
      "model_module": "@jupyter-widgets/controls",
      "model_module_version": "2.0.0",
      "model_name": "HTMLStyleModel",
      "state": {
       "description_width": "",
       "font_size": null,
       "text_color": null
      }
     },
     "961c083763bc4dfb85a6a866a82e364a": {
      "model_module": "@jupyter-widgets/controls",
      "model_module_version": "2.0.0",
      "model_name": "HTMLModel",
      "state": {
       "layout": "IPY_MODEL_f0ed361da44a4d9a9cc563ff1657a8f9",
       "style": "IPY_MODEL_2886e6054e664e4ca54bfacbb13afd3f",
       "value": "cio2nm55earflfq1h550"
      }
     },
     "9c02c4bc498f4d51b72aa59b2265fac8": {
      "model_module": "@jupyter-widgets/controls",
      "model_module_version": "2.0.0",
      "model_name": "HTMLStyleModel",
      "state": {
       "description_width": "",
       "font_size": null,
       "text_color": null
      }
     },
     "a260aaa3e0b444e1a18a537d34cb33e4": {
      "model_module": "@jupyter-widgets/base",
      "model_module_version": "2.0.0",
      "model_name": "LayoutModel",
      "state": {}
     },
     "a5bb24dced4f49bbb7c1695e7bb46980": {
      "model_module": "@jupyter-widgets/controls",
      "model_module_version": "2.0.0",
      "model_name": "HTMLModel",
      "state": {
       "layout": "IPY_MODEL_a260aaa3e0b444e1a18a537d34cb33e4",
       "style": "IPY_MODEL_08a1a3af133d4e72a1bf7c996e4589a9",
       "value": "job has successfully run"
      }
     },
     "a637db49dc084f4c9f467af3eb0f704a": {
      "model_module": "@jupyter-widgets/base",
      "model_module_version": "2.0.0",
      "model_name": "LayoutModel",
      "state": {}
     },
     "a73fc57115824a8c970bea1e096ba77a": {
      "model_module": "@jupyter-widgets/controls",
      "model_module_version": "2.0.0",
      "model_name": "HTMLStyleModel",
      "state": {
       "description_width": "",
       "font_size": null,
       "text_color": null
      }
     },
     "a790c8bc0f504b348a646ea540c70cd8": {
      "model_module": "@jupyter-widgets/controls",
      "model_module_version": "2.0.0",
      "model_name": "ButtonModel",
      "state": {
       "icon": "close",
       "layout": "IPY_MODEL_609db2db51c043bb9750404616f1c30f",
       "style": "IPY_MODEL_b993c38c5d9f499cbda4b40afd20238e",
       "tooltip": null
      }
     },
     "a982bd70adc94974b7e57dbed021ef85": {
      "model_module": "@jupyter-widgets/controls",
      "model_module_version": "2.0.0",
      "model_name": "HTMLStyleModel",
      "state": {
       "description_width": "",
       "font_size": null,
       "text_color": null
      }
     },
     "afed1df39d8e47bd988ce9ac4a477733": {
      "model_module": "@jupyter-widgets/controls",
      "model_module_version": "2.0.0",
      "model_name": "HTMLModel",
      "state": {
       "layout": "IPY_MODEL_3a9320dbf28b4712b6c80c219790910c",
       "style": "IPY_MODEL_76d58e57dd0249119f4b754d900d253f",
       "value": "cio2i3kt4v68ftavekpg"
      }
     },
     "b00550b5086345fd909d5c1582840476": {
      "model_module": "@jupyter-widgets/controls",
      "model_module_version": "2.0.0",
      "model_name": "HTMLStyleModel",
      "state": {
       "description_width": "",
       "font_size": null,
       "text_color": null
      }
     },
     "b09edcf90ea24c5fb9aabcc1f26243ae": {
      "model_module": "@jupyter-widgets/base",
      "model_module_version": "2.0.0",
      "model_name": "LayoutModel",
      "state": {
       "width": "190px"
      }
     },
     "b7192d1a69114efba1df3b7b0101ba54": {
      "model_module": "@jupyter-widgets/controls",
      "model_module_version": "2.0.0",
      "model_name": "HTMLModel",
      "state": {
       "layout": "IPY_MODEL_3607830e88fe4214b8ef79620c65004f",
       "style": "IPY_MODEL_ef23e93f09554b90a2cc0c14dfaaed6d",
       "value": "-"
      }
     },
     "b8c4a83c229a485b8e56ed29424de258": {
      "model_module": "@jupyter-widgets/base",
      "model_module_version": "2.0.0",
      "model_name": "LayoutModel",
      "state": {
       "margin": "0px 5px 0px 0px",
       "width": "32px"
      }
     },
     "b9859ec015d04fea92bb1aeddd693bd9": {
      "model_module": "@jupyter-widgets/controls",
      "model_module_version": "2.0.0",
      "model_name": "HTMLModel",
      "state": {
       "layout": "IPY_MODEL_552b551c351f4dbbbe27979c3926ecbf",
       "style": "IPY_MODEL_8d4cbad7591e419284e06cd4cc5def9b",
       "value": "cio2gql5earflfq1dadg"
      }
     },
     "b993c38c5d9f499cbda4b40afd20238e": {
      "model_module": "@jupyter-widgets/controls",
      "model_module_version": "2.0.0",
      "model_name": "ButtonStyleModel",
      "state": {
       "button_color": "white",
       "font_family": null,
       "font_size": null,
       "font_style": null,
       "font_variant": null,
       "font_weight": null,
       "text_color": null,
       "text_decoration": null
      }
     },
     "b9c7671f83bd4266b63b8bf60997a2fb": {
      "model_module": "@jupyter-widgets/controls",
      "model_module_version": "2.0.0",
      "model_name": "HTMLModel",
      "state": {
       "layout": "IPY_MODEL_8ce029e0bc5a448ab2a84118376f3ace",
       "style": "IPY_MODEL_94d1be4cdaa847b98ff6e54460870d79",
       "value": "DONE"
      }
     },
     "bd3cffe76d3b4633bb67003a00f7534e": {
      "model_module": "@jupyter-widgets/controls",
      "model_module_version": "2.0.0",
      "model_name": "HTMLStyleModel",
      "state": {
       "description_width": "",
       "font_size": null,
       "text_color": null
      }
     },
     "c26a7382e8df4330b15927b2639917e5": {
      "model_module": "@jupyter-widgets/controls",
      "model_module_version": "2.0.0",
      "model_name": "HTMLStyleModel",
      "state": {
       "description_width": "",
       "font_size": null,
       "text_color": null
      }
     },
     "c3e3163226e7456d9b11860ac1eead2c": {
      "model_module": "@jupyter-widgets/controls",
      "model_module_version": "2.0.0",
      "model_name": "HTMLModel",
      "state": {
       "layout": "IPY_MODEL_1ba9c6b5543c453b89214d9ca9eb5923",
       "style": "IPY_MODEL_19e109781ebc4d6ba8bd4bcad7ca8a12",
       "value": "<font style='color:#34BC6E'>DONE</font>"
      }
     },
     "c6d54c43e36243129a5965a94ec5ba9c": {
      "model_module": "@jupyter-widgets/controls",
      "model_module_version": "2.0.0",
      "model_name": "HBoxModel",
      "state": {
       "children": [
        "IPY_MODEL_3c90f2c1a97d4221beffc26a50ae6d89",
        "IPY_MODEL_624cba9e34674ed38b03ce385bde606c",
        "IPY_MODEL_922d9dc8f36a4294b5224ed3fe1e67bb",
        "IPY_MODEL_b9c7671f83bd4266b63b8bf60997a2fb",
        "IPY_MODEL_37bb87ba133f4978be86a77e2e07d75f",
        "IPY_MODEL_e366751556304f2cb134a23970a5e0f4"
       ],
       "layout": "IPY_MODEL_e6f9267e2db54a79a7f0b99c0be71aa7"
      }
     },
     "cabdc9a6ac8644b1a6b6c0a68c8101a2": {
      "model_module": "@jupyter-widgets/base",
      "model_module_version": "2.0.0",
      "model_name": "LayoutModel",
      "state": {
       "grid_template_areas": "\n                                       \". . . . right \"\n                                        ",
       "grid_template_columns": "20% 20% 20% 20% 20%",
       "width": "100%"
      }
     },
     "cb97c7ec57d04cac810e3bd1d58d8fac": {
      "model_module": "@jupyter-widgets/controls",
      "model_module_version": "2.0.0",
      "model_name": "ButtonStyleModel",
      "state": {
       "button_color": "white",
       "font_family": null,
       "font_size": null,
       "font_style": null,
       "font_variant": null,
       "font_weight": null,
       "text_color": null,
       "text_decoration": null
      }
     },
     "d055fa548b7449c1a07de8b49b94bd13": {
      "model_module": "@jupyter-widgets/controls",
      "model_module_version": "2.0.0",
      "model_name": "HTMLModel",
      "state": {
       "layout": "IPY_MODEL_19cab4bf88d247768db4947c4bd5cc8a",
       "style": "IPY_MODEL_b00550b5086345fd909d5c1582840476",
       "value": "-"
      }
     },
     "d36f86b8ea0348548e87f8a796f5064e": {
      "model_module": "@jupyter-widgets/base",
      "model_module_version": "2.0.0",
      "model_name": "LayoutModel",
      "state": {
       "margin": "0px 0px 10px 0px"
      }
     },
     "d5729c3d6637470f85470c0161cb4ae5": {
      "model_module": "@jupyter-widgets/controls",
      "model_module_version": "2.0.0",
      "model_name": "HTMLModel",
      "state": {
       "layout": "IPY_MODEL_8ae52aa298aa48e399ba894c42f3c3f3",
       "style": "IPY_MODEL_7402f683fdb64f399b2a5c1e5fcb633d",
       "value": "DONE"
      }
     },
     "d5ceb271cf614182bbb7f1c9565568d1": {
      "model_module": "@jupyter-widgets/controls",
      "model_module_version": "2.0.0",
      "model_name": "HTMLStyleModel",
      "state": {
       "description_width": "",
       "font_size": null,
       "text_color": null
      }
     },
     "d83700e31623474da573ae3ca9ad0e08": {
      "model_module": "@jupyter-widgets/base",
      "model_module_version": "2.0.0",
      "model_name": "LayoutModel",
      "state": {
       "max_width": "700px",
       "min_width": "700px"
      }
     },
     "d84af8438e8d49329251ef411a299d1c": {
      "model_module": "@jupyter-widgets/controls",
      "model_module_version": "2.0.0",
      "model_name": "HTMLStyleModel",
      "state": {
       "description_width": "",
       "font_size": null,
       "text_color": null
      }
     },
     "d9fab3fcd835486b82e04e11dc0477fb": {
      "model_module": "@jupyter-widgets/base",
      "model_module_version": "2.0.0",
      "model_name": "LayoutModel",
      "state": {
       "width": "190px"
      }
     },
     "dc2f61a3faad43dda89d5b40f36e8cdb": {
      "model_module": "@jupyter-widgets/controls",
      "model_module_version": "2.0.0",
      "model_name": "ButtonModel",
      "state": {
       "icon": "close",
       "layout": "IPY_MODEL_f950eabcdf924a84b22d237d3a57f36b",
       "style": "IPY_MODEL_8b36c08b1619403cb03589ff18e2226a",
       "tooltip": null
      }
     },
     "dc66d14183484b629db49b30c1c7137c": {
      "model_module": "@jupyter-widgets/controls",
      "model_module_version": "2.0.0",
      "model_name": "HTMLStyleModel",
      "state": {
       "description_width": "",
       "font_size": null,
       "text_color": null
      }
     },
     "dcb8e1fff7b34a47ae8acf299b4d8689": {
      "model_module": "@jupyter-widgets/controls",
      "model_module_version": "2.0.0",
      "model_name": "HBoxModel",
      "state": {
       "children": [
        "IPY_MODEL_5e31efd15db04b188258e9a1d392c136",
        "IPY_MODEL_961c083763bc4dfb85a6a866a82e364a",
        "IPY_MODEL_fdb545bfba7f446d92bc504e2f85473c",
        "IPY_MODEL_120dab1da9b04648aaf29e9adc1e0f3d",
        "IPY_MODEL_54369c4bda654e31a6b44e1708b6791c",
        "IPY_MODEL_37d68a8da60745d78fd84f0734777c15"
       ],
       "layout": "IPY_MODEL_d83700e31623474da573ae3ca9ad0e08"
      }
     },
     "e03d621f6dee46a9a351e06bce44180f": {
      "model_module": "@jupyter-widgets/controls",
      "model_module_version": "2.0.0",
      "model_name": "HTMLModel",
      "state": {
       "layout": "IPY_MODEL_02afcc6161854c199c5db4d90c4db23b",
       "style": "IPY_MODEL_79baaaad2c4e47308f6dfa0c56e4409a",
       "value": "<p style=white-space:nowrap;>job has successfully run</p>"
      }
     },
     "e366751556304f2cb134a23970a5e0f4": {
      "model_module": "@jupyter-widgets/controls",
      "model_module_version": "2.0.0",
      "model_name": "HTMLModel",
      "state": {
       "layout": "IPY_MODEL_94ac5fc758a34d488892083c42c7eec0",
       "style": "IPY_MODEL_bd3cffe76d3b4633bb67003a00f7534e",
       "value": "<p style=white-space:nowrap;>job has successfully run</p>"
      }
     },
     "e3b8a60e315c40138aa77b6e58c43398": {
      "model_module": "@jupyter-widgets/controls",
      "model_module_version": "2.0.0",
      "model_name": "HTMLStyleModel",
      "state": {
       "description_width": "",
       "font_size": null,
       "text_color": null
      }
     },
     "e3f63bcd2832484691332a2949673e77": {
      "model_module": "@jupyter-widgets/controls",
      "model_module_version": "2.0.0",
      "model_name": "GridBoxModel",
      "state": {
       "children": [
        "IPY_MODEL_8ae1afae66e042dd8a7daa3cca86106c"
       ],
       "layout": "IPY_MODEL_cabdc9a6ac8644b1a6b6c0a68c8101a2"
      }
     },
     "e63315a6f6d346bd8284f572b4d97a83": {
      "model_module": "@jupyter-widgets/controls",
      "model_module_version": "2.0.0",
      "model_name": "HTMLModel",
      "state": {
       "layout": "IPY_MODEL_6e068f519038413db14166293fe07bc4",
       "style": "IPY_MODEL_70e4585ed9404c2c83c74c2ea3a4e233",
       "value": "ibmq_qasm_simulator"
      }
     },
     "e6f9267e2db54a79a7f0b99c0be71aa7": {
      "model_module": "@jupyter-widgets/base",
      "model_module_version": "2.0.0",
      "model_name": "LayoutModel",
      "state": {
       "max_width": "700px",
       "min_width": "700px"
      }
     },
     "eca0abd7309d4386bd11ea9d9e7afbb2": {
      "model_module": "@jupyter-widgets/controls",
      "model_module_version": "2.0.0",
      "model_name": "HTMLModel",
      "state": {
       "layout": "IPY_MODEL_0cc108e2af1e47a89f48b78c1306eab1",
       "style": "IPY_MODEL_3ed3be9e70104997b82b3e413207422d",
       "value": "<h5>Status</h5>"
      }
     },
     "ef23e93f09554b90a2cc0c14dfaaed6d": {
      "model_module": "@jupyter-widgets/controls",
      "model_module_version": "2.0.0",
      "model_name": "HTMLStyleModel",
      "state": {
       "description_width": "",
       "font_size": null,
       "text_color": null
      }
     },
     "f0ed361da44a4d9a9cc563ff1657a8f9": {
      "model_module": "@jupyter-widgets/base",
      "model_module_version": "2.0.0",
      "model_name": "LayoutModel",
      "state": {
       "width": "190px"
      }
     },
     "f80191543764452f9f5b92b76c3b1ab4": {
      "model_module": "@jupyter-widgets/base",
      "model_module_version": "2.0.0",
      "model_name": "LayoutModel",
      "state": {
       "width": "145px"
      }
     },
     "f950eabcdf924a84b22d237d3a57f36b": {
      "model_module": "@jupyter-widgets/base",
      "model_module_version": "2.0.0",
      "model_name": "LayoutModel",
      "state": {
       "margin": "0px 5px 0px 0px",
       "width": "32px"
      }
     },
     "f965feff4de6433593c01dda30fc48f1": {
      "model_module": "@jupyter-widgets/base",
      "model_module_version": "2.0.0",
      "model_name": "LayoutModel",
      "state": {
       "width": "70px"
      }
     },
     "fbeffee46b7e4b7f9f4482bd81fc69ab": {
      "model_module": "@jupyter-widgets/controls",
      "model_module_version": "2.0.0",
      "model_name": "HBoxModel",
      "state": {
       "children": [
        "IPY_MODEL_4a12b9d290de48bab0c4fde8d6866ea3",
        "IPY_MODEL_afed1df39d8e47bd988ce9ac4a477733",
        "IPY_MODEL_428c052038fb48b7800567c0a5184d1b",
        "IPY_MODEL_d5729c3d6637470f85470c0161cb4ae5",
        "IPY_MODEL_b7192d1a69114efba1df3b7b0101ba54",
        "IPY_MODEL_e03d621f6dee46a9a351e06bce44180f"
       ],
       "layout": "IPY_MODEL_18adc9a4f4894455b94c670061660ae0"
      }
     },
     "fdb545bfba7f446d92bc504e2f85473c": {
      "model_module": "@jupyter-widgets/controls",
      "model_module_version": "2.0.0",
      "model_name": "HTMLModel",
      "state": {
       "layout": "IPY_MODEL_8c79760b795e46f1996017eb05406b27",
       "style": "IPY_MODEL_6156e512c383446e818a4bda8afe87a0",
       "value": "ibmq_qasm_simulator"
      }
     },
     "ff4cbbea1c464a069f3ff7b8e09aaa8f": {
      "model_module": "@jupyter-widgets/base",
      "model_module_version": "2.0.0",
      "model_name": "LayoutModel",
      "state": {
       "width": "190px"
      }
     }
    },
    "version_major": 2,
    "version_minor": 0
   }
  }
 },
 "nbformat": 4,
 "nbformat_minor": 5
}
